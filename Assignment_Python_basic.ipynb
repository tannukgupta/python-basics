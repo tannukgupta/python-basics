{
  "nbformat": 4,
  "nbformat_minor": 0,
  "metadata": {
    "colab": {
      "provenance": []
    },
    "kernelspec": {
      "name": "python3",
      "display_name": "Python 3"
    },
    "language_info": {
      "name": "python"
    }
  },
  "cells": [
    {
      "cell_type": "markdown",
      "source": [
        "**Python Basics Questions**"
      ],
      "metadata": {
        "id": "Yxq-9v9hbY9C"
      }
    },
    {
      "cell_type": "markdown",
      "source": [
        "1. Python is a high-level, interpreted programming language, which easy to use and simple code.\n",
        "- it popular because of its simplicity, it open source, wide range of libraries, and can use fo rmachine learning, web and GUI applications, data analysis.\n"
      ],
      "metadata": {
        "id": "Z2w6k7NvbilM"
      }
    },
    {
      "cell_type": "markdown",
      "source": [
        "2. interoreter in python meanse it will execute each code line by line, and will help to find the error easily."
      ],
      "metadata": {
        "id": "vg-N6NHdcZVl"
      }
    },
    {
      "cell_type": "markdown",
      "source": [
        "3. pre defined keywords are the reserved words that are already defined in python, like- if, for, while.\n"
      ],
      "metadata": {
        "id": "ZCrfzokOcwOK"
      }
    },
    {
      "cell_type": "markdown",
      "source": [
        "4. No, keywords cant be use as variables because keywords are speacial pre defined characters.\n"
      ],
      "metadata": {
        "id": "LXX4kmyAdDHt"
      }
    },
    {
      "cell_type": "markdown",
      "source": [
        "5. mutability means objects can be changed.\n"
      ],
      "metadata": {
        "id": "RUP8nyqFdcu3"
      }
    },
    {
      "cell_type": "markdown",
      "source": [
        "6. a list is a built in data structure more like a box where we can store the data in specific order so, the value can be changed but, in tuples it cant be changed if it is created once.\n"
      ],
      "metadata": {
        "id": "-6YuYkf3dwz_"
      }
    },
    {
      "cell_type": "markdown",
      "source": [
        "7. \"==\" is use for value equality.\n",
        "but \"is\" is use to check the identity."
      ],
      "metadata": {
        "id": "mqTSgg90eoDg"
      }
    },
    {
      "cell_type": "markdown",
      "source": [
        "8. logical operators in python are- AND,OR,NOT.\n"
      ],
      "metadata": {
        "id": "Yfx9FDGze-oY"
      }
    },
    {
      "cell_type": "markdown",
      "source": [
        "9. TYPE casting means coverting the data types from on to other.\n"
      ],
      "metadata": {
        "id": "Ui_MElg_fHY6"
      }
    },
    {
      "cell_type": "markdown",
      "source": [
        "10. coverting data types by explicitly using functions or implicitly during operators."
      ],
      "metadata": {
        "id": "8d0siRNUfZpr"
      }
    },
    {
      "cell_type": "markdown",
      "source": [
        "11. conditional statement help the program to choose the path depnding on the specific condition defined.\n"
      ],
      "metadata": {
        "id": "Y9sw5UWef315"
      }
    },
    {
      "cell_type": "markdown",
      "source": [
        "12. elif excuted after the if condition comes false, and it check the both conditons if first come false, then will check the second one."
      ],
      "metadata": {
        "id": "LcdVJex7gaoC"
      }
    },
    {
      "cell_type": "markdown",
      "source": [
        "13. for loop is basically called iteration loop, it works till the condtions false.\n",
        "but in while loop it execute an extra output, then check the condition.\n"
      ],
      "metadata": {
        "id": "hsIdFwqchHer"
      }
    },
    {
      "cell_type": "markdown",
      "source": [
        "14. it beast fro scenario like when we dont know how many times a loop needs to run, and it will keeps going until the data is correct."
      ],
      "metadata": {
        "id": "rubDBqdLhdUd"
      }
    },
    {
      "cell_type": "markdown",
      "source": [
        "**PRACTICAL QUESTIONS**"
      ],
      "metadata": {
        "id": "luF0QfDZiUy0"
      }
    },
    {
      "cell_type": "code",
      "source": [
        "#Q1\n",
        "print(\"Hello, World!\")\n"
      ],
      "metadata": {
        "colab": {
          "base_uri": "https://localhost:8080/"
        },
        "id": "QzIQrVFwiS_c",
        "outputId": "8166e1c0-d954-4d0b-fb4f-78f7fa310679"
      },
      "execution_count": 1,
      "outputs": [
        {
          "output_type": "stream",
          "name": "stdout",
          "text": [
            "Hello, World!\n"
          ]
        }
      ]
    },
    {
      "cell_type": "code",
      "source": [
        "#Q2\n",
        "name = \"Tannu Kumari Gupta\"\n",
        "age = 24\n",
        "print(f\"My name is {name}, and I am {age} years old.\")"
      ],
      "metadata": {
        "colab": {
          "base_uri": "https://localhost:8080/"
        },
        "id": "7voXBrv5hSC2",
        "outputId": "3af8b78f-4599-4395-ae5e-2873e9df697a"
      },
      "execution_count": 2,
      "outputs": [
        {
          "output_type": "stream",
          "name": "stdout",
          "text": [
            "My name is Tannu Kumari Gupta, and I am 24 years old.\n"
          ]
        }
      ]
    },
    {
      "cell_type": "code",
      "source": [
        "#Q3\n",
        "import keyword\n",
        "print(keyword.kwlist)"
      ],
      "metadata": {
        "colab": {
          "base_uri": "https://localhost:8080/"
        },
        "id": "iQP0ALXuix5S",
        "outputId": "bd0c88fc-2652-443c-c41c-709ce0b72675"
      },
      "execution_count": 3,
      "outputs": [
        {
          "output_type": "stream",
          "name": "stdout",
          "text": [
            "['False', 'None', 'True', 'and', 'as', 'assert', 'async', 'await', 'break', 'class', 'continue', 'def', 'del', 'elif', 'else', 'except', 'finally', 'for', 'from', 'global', 'if', 'import', 'in', 'is', 'lambda', 'nonlocal', 'not', 'or', 'pass', 'raise', 'return', 'try', 'while', 'with', 'yield']\n"
          ]
        }
      ]
    },
    {
      "cell_type": "code",
      "source": [
        "#Q4\n",
        "import keyword\n",
        "word = input(\"Enter a word: \")\n",
        "print(keyword.iskeyword(word))"
      ],
      "metadata": {
        "colab": {
          "base_uri": "https://localhost:8080/"
        },
        "id": "YWWi0vmUi2FJ",
        "outputId": "f2084a54-bed8-40a5-f9a0-50a405eb39bd"
      },
      "execution_count": 5,
      "outputs": [
        {
          "output_type": "stream",
          "name": "stdout",
          "text": [
            "Enter a word: and\n",
            "True\n"
          ]
        }
      ]
    },
    {
      "cell_type": "code",
      "source": [
        "#Q5\n",
        "mylist = [1, 2, 3]\n",
        "mytuple = (1, 2, 3)\n",
        "mylist[1] = 10"
      ],
      "metadata": {
        "id": "rQI4zWt6jAVn"
      },
      "execution_count": 8,
      "outputs": []
    },
    {
      "cell_type": "code",
      "source": [
        "#Q6\n",
        "def modify_list(l):\n",
        "    l.append(4)\n",
        "\n",
        "def modify_int(n):\n",
        "    n += 1\n",
        "\n",
        "lst = [1, 2, 3]\n",
        "modify_list(lst)\n",
        "print(lst)  # List is modified\n",
        "\n",
        "num = 5\n",
        "modify_int(num)\n",
        "print(num)  # Integer remains unchanged"
      ],
      "metadata": {
        "colab": {
          "base_uri": "https://localhost:8080/"
        },
        "id": "2xZB2aYtjIBT",
        "outputId": "a9c6d900-d69c-479c-c211-9c93c22a9e42"
      },
      "execution_count": 9,
      "outputs": [
        {
          "output_type": "stream",
          "name": "stdout",
          "text": [
            "[1, 2, 3, 4]\n",
            "5\n"
          ]
        }
      ]
    },
    {
      "cell_type": "code",
      "source": [
        "#Q7\n",
        "a = int(input(\"Enter first number: \"))\n",
        "b = int(input(\"Enter second number: \"))\n",
        "print(\"Sum:\", a + b)\n",
        "print(\"Difference:\", a - b)\n",
        "print(\"Product:\", a * b)\n",
        "print(\"Division:\", a / b)"
      ],
      "metadata": {
        "colab": {
          "base_uri": "https://localhost:8080/"
        },
        "id": "BW0mGNyqjfMD",
        "outputId": "056ff525-be01-4621-8640-66fed0598ae2"
      },
      "execution_count": 10,
      "outputs": [
        {
          "output_type": "stream",
          "name": "stdout",
          "text": [
            "Enter first number: 4\n",
            "Enter second number: 7\n",
            "Sum: 11\n",
            "Difference: -3\n",
            "Product: 28\n",
            "Division: 0.5714285714285714\n"
          ]
        }
      ]
    },
    {
      "cell_type": "code",
      "source": [
        "#Q8\n",
        "x = True\n",
        "y = False\n",
        "print(x and y)\n",
        "print(x or y)\n",
        "print(not x)"
      ],
      "metadata": {
        "colab": {
          "base_uri": "https://localhost:8080/"
        },
        "id": "FYiZLRMojl0k",
        "outputId": "a670a1e2-d183-4667-8c40-83bfc84255be"
      },
      "execution_count": 11,
      "outputs": [
        {
          "output_type": "stream",
          "name": "stdout",
          "text": [
            "False\n",
            "True\n",
            "False\n"
          ]
        }
      ]
    },
    {
      "cell_type": "code",
      "source": [
        "#Q9\n",
        "val = input(\"Enter something: \")\n",
        "print(int(val), float(val), bool(val))\n"
      ],
      "metadata": {
        "colab": {
          "base_uri": "https://localhost:8080/"
        },
        "id": "pr25n_pkjrEX",
        "outputId": "0acb8a5f-5dda-49e2-8be8-0bb45e04638c"
      },
      "execution_count": 13,
      "outputs": [
        {
          "output_type": "stream",
          "name": "stdout",
          "text": [
            "Enter something: 1\n",
            "1 1.0 True\n"
          ]
        }
      ]
    },
    {
      "cell_type": "code",
      "source": [
        "#Q10\n",
        "lst = ['1', '2', '3']\n",
        "int_list = list(map(int, lst))\n",
        "print(int_list)"
      ],
      "metadata": {
        "colab": {
          "base_uri": "https://localhost:8080/"
        },
        "id": "cdrA-ctEj32h",
        "outputId": "aec849ad-bf9e-4ec4-a6d7-4e4b243f441b"
      },
      "execution_count": 14,
      "outputs": [
        {
          "output_type": "stream",
          "name": "stdout",
          "text": [
            "[1, 2, 3]\n"
          ]
        }
      ]
    },
    {
      "cell_type": "code",
      "source": [
        "#Q11\n",
        "num = int(input(\"Enter a number: \"))\n",
        "if num > 0:\n",
        "    print(\"Positive\")\n",
        "elif num < 0:\n",
        "    print(\"Negative\")\n",
        "else:\n",
        "    print(\"Zero\")"
      ],
      "metadata": {
        "colab": {
          "base_uri": "https://localhost:8080/"
        },
        "id": "hcbGFMNHj8ZQ",
        "outputId": "59cafb5b-656e-4373-e50d-98c04857017b"
      },
      "execution_count": 15,
      "outputs": [
        {
          "output_type": "stream",
          "name": "stdout",
          "text": [
            "Enter a number: 56\n",
            "Positive\n"
          ]
        }
      ]
    },
    {
      "cell_type": "code",
      "source": [
        "#Q12\n",
        "for i in range(1, 11):\n",
        "    print(i)"
      ],
      "metadata": {
        "colab": {
          "base_uri": "https://localhost:8080/"
        },
        "id": "YSeSeX9nkBeY",
        "outputId": "b8b56a36-09f2-4daa-f995-254bbd850dc2"
      },
      "execution_count": 16,
      "outputs": [
        {
          "output_type": "stream",
          "name": "stdout",
          "text": [
            "1\n",
            "2\n",
            "3\n",
            "4\n",
            "5\n",
            "6\n",
            "7\n",
            "8\n",
            "9\n",
            "10\n"
          ]
        }
      ]
    },
    {
      "cell_type": "code",
      "source": [
        "#Q13\n",
        "total = 0\n",
        "for i in range(2, 51, 2):\n",
        "    total += i\n",
        "print(\"Sum:\", total)"
      ],
      "metadata": {
        "colab": {
          "base_uri": "https://localhost:8080/"
        },
        "id": "KhrGikZdkHYW",
        "outputId": "46b3cf22-f78d-43b5-9de5-da2591480d7b"
      },
      "execution_count": 17,
      "outputs": [
        {
          "output_type": "stream",
          "name": "stdout",
          "text": [
            "Sum: 650\n"
          ]
        }
      ]
    },
    {
      "cell_type": "code",
      "source": [
        "#Q14\n",
        "s = input(\"Enter a string: \")\n",
        "rev = ''\n",
        "i = len(s) - 1\n",
        "while i >= 0:\n",
        "    rev += s[i]\n",
        "    i -= 1\n",
        "print(rev)"
      ],
      "metadata": {
        "colab": {
          "base_uri": "https://localhost:8080/"
        },
        "id": "gNbz0Oq7kLPH",
        "outputId": "51161843-7bce-4296-e791-51822cc5b287"
      },
      "execution_count": 18,
      "outputs": [
        {
          "output_type": "stream",
          "name": "stdout",
          "text": [
            "Enter a string: eat\n",
            "tae\n"
          ]
        }
      ]
    },
    {
      "cell_type": "code",
      "source": [
        "#Q15\n",
        "num = int(input(\"Enter a number: \"))\n",
        "fact = 1\n",
        "while num > 1:\n",
        "    fact *= num\n",
        "    num -= 1\n",
        "print(\"Factorial:\", fact)"
      ],
      "metadata": {
        "colab": {
          "base_uri": "https://localhost:8080/"
        },
        "id": "A5WJbbO5kQo1",
        "outputId": "d52024f6-ed4f-4c68-d8bf-5f9f9ffa093a"
      },
      "execution_count": 19,
      "outputs": [
        {
          "output_type": "stream",
          "name": "stdout",
          "text": [
            "Enter a number: 12\n",
            "Factorial: 479001600\n"
          ]
        }
      ]
    }
  ]
}